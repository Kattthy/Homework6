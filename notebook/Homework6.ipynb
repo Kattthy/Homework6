{
 "cells": [
  {
   "cell_type": "markdown",
   "id": "3ac92941-f570-45cc-bc2c-4f7e35e5651b",
   "metadata": {},
   "source": [
    "# Homework 6\n",
    "## Jiaqi Wu (USCID: 2947873567)\n",
    "### 1. Supervised, Semi-Supervised, and Unsupervised Learning  \n",
    "#### (b) Monte-Carlo Simulation: Repeat the following procedures for supervised, unsupervised, and semi-supervised learning M = 30 times, and use randomly selected train and test data (make sure you use 20% of both the positve and negative classes as the test set). Then compare the average scores (accuracy, precision, recall, F1-score, and AUC) that you obtain from each algorithm."
   ]
  },
  {
   "cell_type": "code",
   "execution_count": 1,
   "id": "73221c08-e390-4cf3-8106-f3c3981c28a5",
   "metadata": {},
   "outputs": [],
   "source": [
    "import pandas as pd\n",
    "data_path = '../data/wdbc.data'\n",
    "names = ['ID','class']\n",
    "for i in range(1,31):\n",
    "    names.append(str(i))\n",
    "wdbc_data = pd.read_csv(data_path, header=None, names = names)"
   ]
  },
  {
   "cell_type": "code",
   "execution_count": 2,
   "id": "9f47a560-4024-46f7-ac61-4d22b2cc987e",
   "metadata": {},
   "outputs": [
    {
     "data": {
      "text/html": [
       "<div>\n",
       "<style scoped>\n",
       "    .dataframe tbody tr th:only-of-type {\n",
       "        vertical-align: middle;\n",
       "    }\n",
       "\n",
       "    .dataframe tbody tr th {\n",
       "        vertical-align: top;\n",
       "    }\n",
       "\n",
       "    .dataframe thead th {\n",
       "        text-align: right;\n",
       "    }\n",
       "</style>\n",
       "<table border=\"1\" class=\"dataframe\">\n",
       "  <thead>\n",
       "    <tr style=\"text-align: right;\">\n",
       "      <th></th>\n",
       "      <th>ID</th>\n",
       "      <th>class</th>\n",
       "      <th>1</th>\n",
       "      <th>2</th>\n",
       "      <th>3</th>\n",
       "      <th>4</th>\n",
       "      <th>5</th>\n",
       "      <th>6</th>\n",
       "      <th>7</th>\n",
       "      <th>8</th>\n",
       "      <th>...</th>\n",
       "      <th>21</th>\n",
       "      <th>22</th>\n",
       "      <th>23</th>\n",
       "      <th>24</th>\n",
       "      <th>25</th>\n",
       "      <th>26</th>\n",
       "      <th>27</th>\n",
       "      <th>28</th>\n",
       "      <th>29</th>\n",
       "      <th>30</th>\n",
       "    </tr>\n",
       "  </thead>\n",
       "  <tbody>\n",
       "    <tr>\n",
       "      <th>0</th>\n",
       "      <td>842302</td>\n",
       "      <td>M</td>\n",
       "      <td>17.99</td>\n",
       "      <td>10.38</td>\n",
       "      <td>122.80</td>\n",
       "      <td>1001.0</td>\n",
       "      <td>0.11840</td>\n",
       "      <td>0.27760</td>\n",
       "      <td>0.30010</td>\n",
       "      <td>0.14710</td>\n",
       "      <td>...</td>\n",
       "      <td>25.380</td>\n",
       "      <td>17.33</td>\n",
       "      <td>184.60</td>\n",
       "      <td>2019.0</td>\n",
       "      <td>0.16220</td>\n",
       "      <td>0.66560</td>\n",
       "      <td>0.7119</td>\n",
       "      <td>0.2654</td>\n",
       "      <td>0.4601</td>\n",
       "      <td>0.11890</td>\n",
       "    </tr>\n",
       "    <tr>\n",
       "      <th>1</th>\n",
       "      <td>842517</td>\n",
       "      <td>M</td>\n",
       "      <td>20.57</td>\n",
       "      <td>17.77</td>\n",
       "      <td>132.90</td>\n",
       "      <td>1326.0</td>\n",
       "      <td>0.08474</td>\n",
       "      <td>0.07864</td>\n",
       "      <td>0.08690</td>\n",
       "      <td>0.07017</td>\n",
       "      <td>...</td>\n",
       "      <td>24.990</td>\n",
       "      <td>23.41</td>\n",
       "      <td>158.80</td>\n",
       "      <td>1956.0</td>\n",
       "      <td>0.12380</td>\n",
       "      <td>0.18660</td>\n",
       "      <td>0.2416</td>\n",
       "      <td>0.1860</td>\n",
       "      <td>0.2750</td>\n",
       "      <td>0.08902</td>\n",
       "    </tr>\n",
       "    <tr>\n",
       "      <th>2</th>\n",
       "      <td>84300903</td>\n",
       "      <td>M</td>\n",
       "      <td>19.69</td>\n",
       "      <td>21.25</td>\n",
       "      <td>130.00</td>\n",
       "      <td>1203.0</td>\n",
       "      <td>0.10960</td>\n",
       "      <td>0.15990</td>\n",
       "      <td>0.19740</td>\n",
       "      <td>0.12790</td>\n",
       "      <td>...</td>\n",
       "      <td>23.570</td>\n",
       "      <td>25.53</td>\n",
       "      <td>152.50</td>\n",
       "      <td>1709.0</td>\n",
       "      <td>0.14440</td>\n",
       "      <td>0.42450</td>\n",
       "      <td>0.4504</td>\n",
       "      <td>0.2430</td>\n",
       "      <td>0.3613</td>\n",
       "      <td>0.08758</td>\n",
       "    </tr>\n",
       "    <tr>\n",
       "      <th>3</th>\n",
       "      <td>84348301</td>\n",
       "      <td>M</td>\n",
       "      <td>11.42</td>\n",
       "      <td>20.38</td>\n",
       "      <td>77.58</td>\n",
       "      <td>386.1</td>\n",
       "      <td>0.14250</td>\n",
       "      <td>0.28390</td>\n",
       "      <td>0.24140</td>\n",
       "      <td>0.10520</td>\n",
       "      <td>...</td>\n",
       "      <td>14.910</td>\n",
       "      <td>26.50</td>\n",
       "      <td>98.87</td>\n",
       "      <td>567.7</td>\n",
       "      <td>0.20980</td>\n",
       "      <td>0.86630</td>\n",
       "      <td>0.6869</td>\n",
       "      <td>0.2575</td>\n",
       "      <td>0.6638</td>\n",
       "      <td>0.17300</td>\n",
       "    </tr>\n",
       "    <tr>\n",
       "      <th>4</th>\n",
       "      <td>84358402</td>\n",
       "      <td>M</td>\n",
       "      <td>20.29</td>\n",
       "      <td>14.34</td>\n",
       "      <td>135.10</td>\n",
       "      <td>1297.0</td>\n",
       "      <td>0.10030</td>\n",
       "      <td>0.13280</td>\n",
       "      <td>0.19800</td>\n",
       "      <td>0.10430</td>\n",
       "      <td>...</td>\n",
       "      <td>22.540</td>\n",
       "      <td>16.67</td>\n",
       "      <td>152.20</td>\n",
       "      <td>1575.0</td>\n",
       "      <td>0.13740</td>\n",
       "      <td>0.20500</td>\n",
       "      <td>0.4000</td>\n",
       "      <td>0.1625</td>\n",
       "      <td>0.2364</td>\n",
       "      <td>0.07678</td>\n",
       "    </tr>\n",
       "    <tr>\n",
       "      <th>...</th>\n",
       "      <td>...</td>\n",
       "      <td>...</td>\n",
       "      <td>...</td>\n",
       "      <td>...</td>\n",
       "      <td>...</td>\n",
       "      <td>...</td>\n",
       "      <td>...</td>\n",
       "      <td>...</td>\n",
       "      <td>...</td>\n",
       "      <td>...</td>\n",
       "      <td>...</td>\n",
       "      <td>...</td>\n",
       "      <td>...</td>\n",
       "      <td>...</td>\n",
       "      <td>...</td>\n",
       "      <td>...</td>\n",
       "      <td>...</td>\n",
       "      <td>...</td>\n",
       "      <td>...</td>\n",
       "      <td>...</td>\n",
       "      <td>...</td>\n",
       "    </tr>\n",
       "    <tr>\n",
       "      <th>564</th>\n",
       "      <td>926424</td>\n",
       "      <td>M</td>\n",
       "      <td>21.56</td>\n",
       "      <td>22.39</td>\n",
       "      <td>142.00</td>\n",
       "      <td>1479.0</td>\n",
       "      <td>0.11100</td>\n",
       "      <td>0.11590</td>\n",
       "      <td>0.24390</td>\n",
       "      <td>0.13890</td>\n",
       "      <td>...</td>\n",
       "      <td>25.450</td>\n",
       "      <td>26.40</td>\n",
       "      <td>166.10</td>\n",
       "      <td>2027.0</td>\n",
       "      <td>0.14100</td>\n",
       "      <td>0.21130</td>\n",
       "      <td>0.4107</td>\n",
       "      <td>0.2216</td>\n",
       "      <td>0.2060</td>\n",
       "      <td>0.07115</td>\n",
       "    </tr>\n",
       "    <tr>\n",
       "      <th>565</th>\n",
       "      <td>926682</td>\n",
       "      <td>M</td>\n",
       "      <td>20.13</td>\n",
       "      <td>28.25</td>\n",
       "      <td>131.20</td>\n",
       "      <td>1261.0</td>\n",
       "      <td>0.09780</td>\n",
       "      <td>0.10340</td>\n",
       "      <td>0.14400</td>\n",
       "      <td>0.09791</td>\n",
       "      <td>...</td>\n",
       "      <td>23.690</td>\n",
       "      <td>38.25</td>\n",
       "      <td>155.00</td>\n",
       "      <td>1731.0</td>\n",
       "      <td>0.11660</td>\n",
       "      <td>0.19220</td>\n",
       "      <td>0.3215</td>\n",
       "      <td>0.1628</td>\n",
       "      <td>0.2572</td>\n",
       "      <td>0.06637</td>\n",
       "    </tr>\n",
       "    <tr>\n",
       "      <th>566</th>\n",
       "      <td>926954</td>\n",
       "      <td>M</td>\n",
       "      <td>16.60</td>\n",
       "      <td>28.08</td>\n",
       "      <td>108.30</td>\n",
       "      <td>858.1</td>\n",
       "      <td>0.08455</td>\n",
       "      <td>0.10230</td>\n",
       "      <td>0.09251</td>\n",
       "      <td>0.05302</td>\n",
       "      <td>...</td>\n",
       "      <td>18.980</td>\n",
       "      <td>34.12</td>\n",
       "      <td>126.70</td>\n",
       "      <td>1124.0</td>\n",
       "      <td>0.11390</td>\n",
       "      <td>0.30940</td>\n",
       "      <td>0.3403</td>\n",
       "      <td>0.1418</td>\n",
       "      <td>0.2218</td>\n",
       "      <td>0.07820</td>\n",
       "    </tr>\n",
       "    <tr>\n",
       "      <th>567</th>\n",
       "      <td>927241</td>\n",
       "      <td>M</td>\n",
       "      <td>20.60</td>\n",
       "      <td>29.33</td>\n",
       "      <td>140.10</td>\n",
       "      <td>1265.0</td>\n",
       "      <td>0.11780</td>\n",
       "      <td>0.27700</td>\n",
       "      <td>0.35140</td>\n",
       "      <td>0.15200</td>\n",
       "      <td>...</td>\n",
       "      <td>25.740</td>\n",
       "      <td>39.42</td>\n",
       "      <td>184.60</td>\n",
       "      <td>1821.0</td>\n",
       "      <td>0.16500</td>\n",
       "      <td>0.86810</td>\n",
       "      <td>0.9387</td>\n",
       "      <td>0.2650</td>\n",
       "      <td>0.4087</td>\n",
       "      <td>0.12400</td>\n",
       "    </tr>\n",
       "    <tr>\n",
       "      <th>568</th>\n",
       "      <td>92751</td>\n",
       "      <td>B</td>\n",
       "      <td>7.76</td>\n",
       "      <td>24.54</td>\n",
       "      <td>47.92</td>\n",
       "      <td>181.0</td>\n",
       "      <td>0.05263</td>\n",
       "      <td>0.04362</td>\n",
       "      <td>0.00000</td>\n",
       "      <td>0.00000</td>\n",
       "      <td>...</td>\n",
       "      <td>9.456</td>\n",
       "      <td>30.37</td>\n",
       "      <td>59.16</td>\n",
       "      <td>268.6</td>\n",
       "      <td>0.08996</td>\n",
       "      <td>0.06444</td>\n",
       "      <td>0.0000</td>\n",
       "      <td>0.0000</td>\n",
       "      <td>0.2871</td>\n",
       "      <td>0.07039</td>\n",
       "    </tr>\n",
       "  </tbody>\n",
       "</table>\n",
       "<p>569 rows × 32 columns</p>\n",
       "</div>"
      ],
      "text/plain": [
       "           ID class      1      2       3       4        5        6        7  \\\n",
       "0      842302     M  17.99  10.38  122.80  1001.0  0.11840  0.27760  0.30010   \n",
       "1      842517     M  20.57  17.77  132.90  1326.0  0.08474  0.07864  0.08690   \n",
       "2    84300903     M  19.69  21.25  130.00  1203.0  0.10960  0.15990  0.19740   \n",
       "3    84348301     M  11.42  20.38   77.58   386.1  0.14250  0.28390  0.24140   \n",
       "4    84358402     M  20.29  14.34  135.10  1297.0  0.10030  0.13280  0.19800   \n",
       "..        ...   ...    ...    ...     ...     ...      ...      ...      ...   \n",
       "564    926424     M  21.56  22.39  142.00  1479.0  0.11100  0.11590  0.24390   \n",
       "565    926682     M  20.13  28.25  131.20  1261.0  0.09780  0.10340  0.14400   \n",
       "566    926954     M  16.60  28.08  108.30   858.1  0.08455  0.10230  0.09251   \n",
       "567    927241     M  20.60  29.33  140.10  1265.0  0.11780  0.27700  0.35140   \n",
       "568     92751     B   7.76  24.54   47.92   181.0  0.05263  0.04362  0.00000   \n",
       "\n",
       "           8  ...      21     22      23      24       25       26      27  \\\n",
       "0    0.14710  ...  25.380  17.33  184.60  2019.0  0.16220  0.66560  0.7119   \n",
       "1    0.07017  ...  24.990  23.41  158.80  1956.0  0.12380  0.18660  0.2416   \n",
       "2    0.12790  ...  23.570  25.53  152.50  1709.0  0.14440  0.42450  0.4504   \n",
       "3    0.10520  ...  14.910  26.50   98.87   567.7  0.20980  0.86630  0.6869   \n",
       "4    0.10430  ...  22.540  16.67  152.20  1575.0  0.13740  0.20500  0.4000   \n",
       "..       ...  ...     ...    ...     ...     ...      ...      ...     ...   \n",
       "564  0.13890  ...  25.450  26.40  166.10  2027.0  0.14100  0.21130  0.4107   \n",
       "565  0.09791  ...  23.690  38.25  155.00  1731.0  0.11660  0.19220  0.3215   \n",
       "566  0.05302  ...  18.980  34.12  126.70  1124.0  0.11390  0.30940  0.3403   \n",
       "567  0.15200  ...  25.740  39.42  184.60  1821.0  0.16500  0.86810  0.9387   \n",
       "568  0.00000  ...   9.456  30.37   59.16   268.6  0.08996  0.06444  0.0000   \n",
       "\n",
       "         28      29       30  \n",
       "0    0.2654  0.4601  0.11890  \n",
       "1    0.1860  0.2750  0.08902  \n",
       "2    0.2430  0.3613  0.08758  \n",
       "3    0.2575  0.6638  0.17300  \n",
       "4    0.1625  0.2364  0.07678  \n",
       "..      ...     ...      ...  \n",
       "564  0.2216  0.2060  0.07115  \n",
       "565  0.1628  0.2572  0.06637  \n",
       "566  0.1418  0.2218  0.07820  \n",
       "567  0.2650  0.4087  0.12400  \n",
       "568  0.0000  0.2871  0.07039  \n",
       "\n",
       "[569 rows x 32 columns]"
      ]
     },
     "execution_count": 2,
     "metadata": {},
     "output_type": "execute_result"
    }
   ],
   "source": [
    "wdbc_data"
   ]
  },
  {
   "cell_type": "code",
   "execution_count": 3,
   "id": "17b68b06-0863-40f1-bfbf-a19cf2cf82f5",
   "metadata": {},
   "outputs": [],
   "source": [
    "wdbc_X = wdbc_data.iloc[:,2:]\n",
    "wdbc_y = wdbc_data.iloc[:,1]"
   ]
  },
  {
   "cell_type": "code",
   "execution_count": 4,
   "id": "7e5c2a44-86a2-4f67-b4f4-f60054376356",
   "metadata": {},
   "outputs": [
    {
     "data": {
      "text/plain": [
       "array(['B', 'M'], dtype=object)"
      ]
     },
     "execution_count": 4,
     "metadata": {},
     "output_type": "execute_result"
    }
   ],
   "source": [
    "from sklearn import preprocessing\n",
    "le = preprocessing.LabelEncoder()\n",
    "le.fit(wdbc_y)\n",
    "le.classes_"
   ]
  },
  {
   "cell_type": "code",
   "execution_count": 5,
   "id": "453a47ab-71ab-4ca2-adfc-3e21fec834c0",
   "metadata": {},
   "outputs": [],
   "source": [
    "wdbc_y_b = le.transform(wdbc_y)"
   ]
  },
  {
   "cell_type": "markdown",
   "id": "edffa851-0ab8-4c86-86b0-6ef246460487",
   "metadata": {},
   "source": [
    "##### i. Supervised Learning  \n",
    "Train an L1-penalized SVM to classify the data. Use 5 fold cross validation to choose the penalty parameter. Use normalized data. Report the average accuracy, precision, recall, F1-score, and AUC, for both training and test sets over your M runs. Plot the ROC and report the confusion matrix for training and testing in one of the runs."
   ]
  },
  {
   "cell_type": "code",
   "execution_count": 6,
   "id": "c5d549d0-5513-4faa-98ae-88593885429e",
   "metadata": {},
   "outputs": [],
   "source": [
    "from sklearn.preprocessing import normalize, MinMaxScaler\n",
    "from sklearn.model_selection import train_test_split\n",
    "#wdbc_X = normalize(wdbc_X, axis = 0)\n",
    "X_train, X_test, y_train, y_test = train_test_split(wdbc_X, wdbc_y_b, test_size=0.2, random_state=42, stratify = wdbc_y)\n",
    "scaler = MinMaxScaler()\n",
    "scaler.fit(X_train)\n",
    "X_train = scaler.transform(X_train)\n",
    "X_test = scaler.transform(X_test)"
   ]
  },
  {
   "cell_type": "code",
   "execution_count": 7,
   "id": "658360bf-9d3c-4a8a-b6b2-ae0326090fa7",
   "metadata": {},
   "outputs": [],
   "source": [
    "from sklearn.svm import LinearSVC\n",
    "from sklearn.model_selection import cross_val_score\n",
    "def linearSVC_param_search(X, y):\n",
    "    C_range = np.logspace(-3, 6, 10)\n",
    "    max_score = 0\n",
    "    final_C = 1\n",
    "    for C in C_range:\n",
    "        svc_clf = LinearSVC(penalty=\"l1\", C = C, loss=\"squared_hinge\", max_iter = 10000, dual=False, tol=1e-3)\n",
    "        score =  np.mean(cross_val_score(svc_clf, X, y, cv=5, scoring = 'accuracy'))\n",
    "        if score > max_score:\n",
    "            max_score = score\n",
    "            final_C = C            \n",
    "    return {'C':final_C, 'accuracy':max_score}"
   ]
  },
  {
   "cell_type": "code",
   "execution_count": 10,
   "id": "219a0fa0-eb62-437c-af8a-49f2fa95a824",
   "metadata": {},
   "outputs": [],
   "source": [
    "from sklearn.metrics import confusion_matrix, accuracy_score, precision_score, recall_score, f1_score, roc_curve, auc\n",
    "import matplotlib.pyplot as plt\n",
    "import numpy as np\n",
    "def report_linearSVC(train_X, train_y, test_X, test_y, svc_clf, plot = True):\n",
    "    pred_train = svc_clf.predict(train_X)\n",
    "    pred_test = svc_clf.predict(test_X)\n",
    "    accuracy_train = accuracy_score(train_y, pred_train)\n",
    "    precision_train = precision_score(train_y, pred_train)\n",
    "    recall_train = recall_score(train_y, pred_train)\n",
    "    f1_train = f1_score(train_y, pred_train)\n",
    "    fpr, tpr, thresholds = roc_curve(train_y, pred_train)\n",
    "    roc_auc_train = auc(fpr, tpr)\n",
    "    confusion_matrix_train = confusion_matrix(train_y, pred_train)\n",
    "    train_report = {\n",
    "        'accuracy':accuracy_train,\n",
    "        'precision':precision_train,\n",
    "        'recall':recall_train,\n",
    "        'f1':f1_train,\n",
    "        'auc':roc_auc_train\n",
    "    }\n",
    "    if plot == True:\n",
    "        print('Train:')\n",
    "        print(train_report)\n",
    "        print(confusion_matrix_train)\n",
    "    if plot == True:\n",
    "        plt.figure()\n",
    "        lw = 2\n",
    "        plt.plot(fpr, tpr, lw=lw)\n",
    "        plt.plot([0, 1], [0, 1], lw=lw, linestyle='--')\n",
    "        plt.xlim([0.0, 1.0])\n",
    "        plt.ylim([0.0, 1.05])\n",
    "        plt.xlabel('FPR')\n",
    "        plt.ylabel('TPR')\n",
    "        plt.title('ROC and AUC')\n",
    "        plt.show()\n",
    "    \n",
    "    accuracy_test = accuracy_score(test_y, pred_test)\n",
    "    precision_test = precision_score(test_y, pred_test)\n",
    "    recall_test = recall_score(test_y, pred_test)\n",
    "    f1_test = f1_score(test_y, pred_test)\n",
    "    fpr, tpr, thresholds = roc_curve(test_y, pred_test)\n",
    "    roc_auc_test = auc(fpr, tpr)\n",
    "    confusion_matrix_test = confusion_matrix(test_y, pred_test)\n",
    "    test_report = {\n",
    "        'accuracy':accuracy_test,\n",
    "        'precision':precision_test,\n",
    "        'recall':recall_test,\n",
    "        'f1':f1_test,\n",
    "        'auc':roc_auc_test\n",
    "    }\n",
    "    if plot == True:\n",
    "        print('Test:')\n",
    "        print(test_report)\n",
    "        print(confusion_matrix_test)\n",
    "    if plot == True:\n",
    "        plt.figure()\n",
    "        lw = 2\n",
    "        plt.plot(fpr, tpr, lw=lw)\n",
    "        plt.plot([0, 1], [0, 1], lw=lw, linestyle='--')\n",
    "        plt.xlim([0.0, 1.0])\n",
    "        plt.ylim([0.0, 1.05])\n",
    "        plt.xlabel('FPR')\n",
    "        plt.ylabel('TPR')\n",
    "        plt.title('ROC and AUC')\n",
    "        plt.show()\n",
    "    return train_report, test_report"
   ]
  },
  {
   "cell_type": "code",
   "execution_count": 11,
   "id": "ab6ba47b-453b-451a-bbca-832ebb03a96b",
   "metadata": {},
   "outputs": [
    {
     "data": {
      "text/plain": [
       "{'C': 1.0, 'accuracy': 0.9670329670329672}"
      ]
     },
     "execution_count": 11,
     "metadata": {},
     "output_type": "execute_result"
    }
   ],
   "source": [
    "linearSVC_param_search(X_train, y_train)"
   ]
  },
  {
   "cell_type": "code",
   "execution_count": 12,
   "id": "30987484-8fa3-4c1c-bbdb-c9258ef3506e",
   "metadata": {},
   "outputs": [
    {
     "name": "stdout",
     "output_type": "stream",
     "text": [
      "Train:\n",
      "{'accuracy': 0.9846153846153847, 'precision': 0.9880239520958084, 'recall': 0.9705882352941176, 'f1': 0.9792284866468843, 'auc': 0.9817853457172343}\n",
      "[[283   2]\n",
      " [  5 165]]\n"
     ]
    },
    {
     "data": {
      "image/png": "[encoded data removed]",
      "text/plain": [
       "<Figure size 432x288 with 1 Axes>"
      ]
     },
     "metadata": {
      "needs_background": "light"
     },
     "output_type": "display_data"
    },
    {
     "name": "stdout",
     "output_type": "stream",
     "text": [
      "Test:\n",
      "{'accuracy': 0.9736842105263158, 'precision': 0.975609756097561, 'recall': 0.9523809523809523, 'f1': 0.963855421686747, 'auc': 0.9692460317460317}\n",
      "[[71  1]\n",
      " [ 2 40]]\n"
     ]
    },
    {
     "data": {
      "image/png": "[encoded data removed]",
      "text/plain": [
       "<Figure size 432x288 with 1 Axes>"
      ]
     },
     "metadata": {
      "needs_background": "light"
     },
     "output_type": "display_data"
    }
   ],
   "source": [
    "clf = LinearSVC(penalty=\"l1\", C = 1, loss=\"squared_hinge\", max_iter = 10000, dual=False, tol=1e-3).fit(X_train,y_train)\n",
    "train_report, test_report = report_linearSVC(X_train, y_train, X_test, y_test, clf)"
   ]
  },
  {
   "cell_type": "markdown",
   "id": "2836baab-f685-4ba7-8db9-20f83a7d8ea2",
   "metadata": {},
   "source": [
    "* Monte-Carlo Simulation"
   ]
  },
  {
   "cell_type": "code",
   "execution_count": 13,
   "id": "3db0549d-f66c-487e-b2d9-ce84e40ea209",
   "metadata": {},
   "outputs": [],
   "source": [
    "supervised_train = {}\n",
    "supervised_test = {}\n",
    "for i in range(30):\n",
    "    X_train, X_test, y_train, y_test = train_test_split(wdbc_X, wdbc_y_b, test_size=0.2, random_state=i, stratify = wdbc_y)\n",
    "    scaler = MinMaxScaler()\n",
    "    scaler.fit(X_train)\n",
    "    X_train = scaler.transform(X_train)\n",
    "    X_test = scaler.transform(X_test)\n",
    "    C = linearSVC_param_search(X_train, y_train)['C']\n",
    "    clf = LinearSVC(penalty=\"l1\", C = C, loss=\"squared_hinge\", max_iter = 10000, dual=False, tol=1e-3).fit(X_train,y_train)\n",
    "    train_report, test_report = report_linearSVC(X_train, y_train, X_test, y_test, clf, plot='False')\n",
    "    for key in train_report.keys():\n",
    "        if key not in supervised_train.keys():\n",
    "            supervised_train[key] = []\n",
    "        supervised_train[key].append(train_report[key])\n",
    "    for key in test_report.keys():\n",
    "        if key not in supervised_test.keys():\n",
    "            supervised_test[key] = []\n",
    "        supervised_test[key].append(test_report[key])"
   ]
  },
  {
   "cell_type": "code",
   "execution_count": 14,
   "id": "635dfe3f-bce4-4c31-9ce9-fecea41f6a0e",
   "metadata": {},
   "outputs": [
    {
     "name": "stdout",
     "output_type": "stream",
     "text": [
      "Train: {'accuracy': 0.9857875457875458, 'precision': 0.9902250000811127, 'recall': 0.9715686274509803, 'f1': 0.9807866166125633, 'auc': 0.9829188166494668}\n",
      "Test: {'accuracy': 0.963157894736842, 'precision': 0.9697885541014775, 'recall': 0.9293650793650791, 'f1': 0.9487592060570555, 'auc': 0.9561177248677247}\n"
     ]
    }
   ],
   "source": [
    "supervised_train_result = {}\n",
    "supervised_test_result = {}\n",
    "for key in supervised_train.keys():\n",
    "    supervised_train_result[key] = np.mean(supervised_train[key])\n",
    "for key in supervised_test.keys():\n",
    "    supervised_test_result[key] = np.mean(supervised_test[key])\n",
    "print('Train:', supervised_train_result)\n",
    "print('Test:', supervised_test_result)"
   ]
  },
  {
   "cell_type": "markdown",
   "id": "4c4703fe-3bc9-44d6-b396-214db6f2f4ad",
   "metadata": {},
   "source": [
    "##### ii. Semi-Supervised Learning/ Self-training\n",
    "Select 50% of the positive class along with 50% of the negative class in the training set as labeled data and the rest as unlabelled data. You can select them randomly.  \n",
    "*  A. Train an L1-penalized SVM to classify the labeled data Use normalized data. Choose the penalty parameter using 5 fold cross validation"
   ]
  },
  {
   "cell_type": "code",
   "execution_count": 15,
   "id": "daffb0e9-19a4-4bc6-a285-154ca196653b",
   "metadata": {},
   "outputs": [],
   "source": [
    "X_train, X_test, y_train, y_test = train_test_split(wdbc_X, wdbc_y_b, test_size=0.5, random_state=42, stratify = wdbc_y)\n",
    "scaler = MinMaxScaler()\n",
    "scaler.fit(X_train)\n",
    "X_train = scaler.transform(X_train)\n",
    "X_test = scaler.transform(X_test)"
   ]
  },
  {
   "cell_type": "code",
   "execution_count": 16,
   "id": "dbedc9db-422e-4844-8d60-9fc500c41e92",
   "metadata": {},
   "outputs": [
    {
     "data": {
      "text/plain": [
       "{'C': 10.0, 'accuracy': 0.9575814536340852}"
      ]
     },
     "execution_count": 16,
     "metadata": {},
     "output_type": "execute_result"
    }
   ],
   "source": [
    "linearSVC_param_search(X_train, y_train)"
   ]
  },
  {
   "cell_type": "code",
   "execution_count": 17,
   "id": "de01255e-c034-4e18-b9c1-2f8b438b8f26",
   "metadata": {},
   "outputs": [],
   "source": [
    "svc_clf = LinearSVC(penalty=\"l1\", C = 10, loss=\"squared_hinge\", max_iter = 10000, dual=False, tol=1e-3)"
   ]
  },
  {
   "cell_type": "code",
   "execution_count": 18,
   "id": "1e8d081c-a852-4ebe-b571-c51352dfbfd1",
   "metadata": {},
   "outputs": [
    {
     "data": {
      "text/plain": [
       "LinearSVC(C=10, dual=False, max_iter=10000, penalty='l1', tol=0.001)"
      ]
     },
     "execution_count": 18,
     "metadata": {},
     "output_type": "execute_result"
    }
   ],
   "source": [
    "svc_clf.fit(X_train, y_train)"
   ]
  },
  {
   "cell_type": "markdown",
   "id": "8868c1cd-f0b6-4677-aa1e-2d87ddd6c396",
   "metadata": {},
   "source": [
    "* B. Find the unlabeled data point that is the farthest to the decision boundary of the SVM. Let the SVM label it (ignore its true label), and add it to the labeled data, and retrain the SVM. Continue this process until all unlabeled data are used. Test the final SVM on the test data and the average accuracy, precision, recall, F1-score, and AUC, for both training and test sets over your M runs. Plot the ROC and report the confusion matrix for training and testing in one of the runs."
   ]
  },
  {
   "cell_type": "code",
   "execution_count": 19,
   "id": "5aa353e4-7ffe-4c67-8098-1a35ea737c2d",
   "metadata": {},
   "outputs": [],
   "source": [
    "import copy\n",
    "n = len(X_test)\n",
    "X_test_tmp = copy.deepcopy(X_test)\n",
    "X_test_train = []\n",
    "y_test_train = []\n",
    "for i in range(n):\n",
    "    y = svc_clf.decision_function(X_test_tmp)\n",
    "    w_norm = np.linalg.norm(svc_clf.coef_)\n",
    "    dist = y / w_norm\n",
    "    pos_max = np.argmax(dist)\n",
    "    neg_max = np.argmin(dist)\n",
    "    if pos_max > -neg_max:\n",
    "        X_test_train.append(X_test_tmp[pos_max])\n",
    "        y_test_train.append(1)\n",
    "    else:\n",
    "        X_test_train.append(X_test_tmp[neg_max])\n",
    "        y_test_train.append(0)\n",
    "    svc_clf.fit(np.concatenate((X_test_train, X_train), axis=0), np.concatenate((y_test_train, y_train), axis=0))"
   ]
  },
  {
   "cell_type": "code",
   "execution_count": 20,
   "id": "ce2fc31d-86a3-4c22-a307-77164ecf4aaa",
   "metadata": {},
   "outputs": [
    {
     "name": "stdout",
     "output_type": "stream",
     "text": [
      "Train:\n",
      "{'accuracy': 0.9859154929577465, 'precision': 0.9903846153846154, 'recall': 0.9716981132075472, 'f1': 0.9809523809523809, 'auc': 0.9830400678397286}\n",
      "[[177   1]\n",
      " [  3 103]]\n"
     ]
    },
    {
     "data": {
      "image/png": "[encoded data removed]",
      "text/plain": [
       "<Figure size 432x288 with 1 Axes>"
      ]
     },
     "metadata": {
      "needs_background": "light"
     },
     "output_type": "display_data"
    },
    {
     "name": "stdout",
     "output_type": "stream",
     "text": [
      "Test:\n",
      "{'accuracy': 0.9649122807017544, 'precision': 0.9897959183673469, 'recall': 0.9150943396226415, 'f1': 0.9509803921568627, 'auc': 0.9547538737219352}\n",
      "[[178   1]\n",
      " [  9  97]]\n"
     ]
    },
    {
     "data": {
      "image/png": "[encoded data removed]",
      "text/plain": [
       "<Figure size 432x288 with 1 Axes>"
      ]
     },
     "metadata": {
      "needs_background": "light"
     },
     "output_type": "display_data"
    }
   ],
   "source": [
    "train_report_semi, test_report_semi = report_linearSVC(X_train, y_train, X_test, y_test, svc_clf)"
   ]
  },
  {
   "cell_type": "markdown",
   "id": "839c0615-0da3-4c8d-bfcf-056549786d9d",
   "metadata": {},
   "source": [
    "* Monte Carlo Simulation"
   ]
  },
  {
   "cell_type": "code",
   "execution_count": 21,
   "id": "caefeec9-3be4-4d1a-b954-ef3ff4ba0761",
   "metadata": {},
   "outputs": [],
   "source": [
    "semi_supervised_train = {}\n",
    "semi_supervised_test = {}\n",
    "for m in range(30):\n",
    "    X_train, X_test, y_train, y_test = train_test_split(wdbc_X, wdbc_y_b, test_size=0.5, random_state=m, stratify = wdbc_y)\n",
    "    scaler = MinMaxScaler()\n",
    "    scaler.fit(X_train)\n",
    "    X_train = scaler.transform(X_train)\n",
    "    X_test = scaler.transform(X_test)\n",
    "    C = linearSVC_param_search(X_train, y_train)['C']\n",
    "    svc_clf = LinearSVC(penalty=\"l1\", C = 10, loss=\"squared_hinge\", max_iter = 10000, dual=False, tol=1e-3)\n",
    "    svc_clf.fit(X_train, y_train)\n",
    "    n = len(X_test)\n",
    "    X_test_tmp = copy.deepcopy(X_test)\n",
    "    X_test_train = []\n",
    "    y_test_train = []\n",
    "    for i in range(n):\n",
    "        y = svc_clf.decision_function(X_test_tmp)\n",
    "        w_norm = np.linalg.norm(svc_clf.coef_)\n",
    "        dist = y / w_norm\n",
    "        pos_max = np.argmax(dist)\n",
    "        neg_max = np.argmin(dist)\n",
    "        if pos_max > -neg_max:\n",
    "            X_test_train.append(X_test_tmp[pos_max])\n",
    "            y_test_train.append(1)\n",
    "        else:\n",
    "            X_test_train.append(X_test_tmp[neg_max])\n",
    "            y_test_train.append(0)\n",
    "        svc_clf.fit(np.concatenate((X_test_train, X_train), axis=0), np.concatenate((y_test_train, y_train), axis=0))\n",
    "    train_report_semi, test_report_semi = report_linearSVC(X_train, y_train, X_test, y_test, svc_clf, plot = False)\n",
    "    for key in train_report_semi.keys():\n",
    "        if key not in semi_supervised_train.keys():\n",
    "            semi_supervised_train[key] = []\n",
    "        semi_supervised_train[key].append(train_report_semi[key])\n",
    "    for key in test_report_semi.keys():\n",
    "        if key not in semi_supervised_test.keys():\n",
    "            semi_supervised_test[key] = []\n",
    "        semi_supervised_test[key].append(test_report_semi[key])"
   ]
  },
  {
   "cell_type": "code",
   "execution_count": 22,
   "id": "7e0bfd86-84f9-45ba-b64e-2ce681c6bf80",
   "metadata": {},
   "outputs": [
    {
     "name": "stdout",
     "output_type": "stream",
     "text": [
      "Train: {'accuracy': 0.9889671361502346, 'precision': 0.9948865339422518, 'recall': 0.9754716981132078, 'f1': 0.9850532473641728, 'auc': 0.9862377217157798}\n",
      "Test: {'accuracy': 0.9660818713450293, 'precision': 0.962701417022343, 'recall': 0.9459119496855346, 'f1': 0.9539365066249111, 'auc': 0.9619690102245179}\n"
     ]
    }
   ],
   "source": [
    "semi_supervised_train_result = {}\n",
    "semi_supervised_test_result = {}\n",
    "for key in semi_supervised_train.keys():\n",
    "    semi_supervised_train_result[key] = np.mean(semi_supervised_train[key])\n",
    "for key in semi_supervised_test.keys():\n",
    "    semi_supervised_test_result[key] = np.mean(semi_supervised_test[key])\n",
    "print('Train:', semi_supervised_train_result)\n",
    "print('Test:', semi_supervised_test_result)"
   ]
  },
  {
   "cell_type": "markdown",
   "id": "5d38f060-a2e2-49f1-86ff-cc5bb6e0c6b5",
   "metadata": {},
   "source": [
    "##### iii. Unsupervised Learning: Run k-means algorithm on the whole training set. Ignore the labels of the data, and assume k = 2."
   ]
  },
  {
   "cell_type": "markdown",
   "id": "d33add21-79ff-4b2b-9bb1-a4f566092aa1",
   "metadata": {},
   "source": [
    "* A. Run the k-means algorithm multiple times. Make sure that you initialize the algoritm randomly. How do you make sure that the algorithm was not trapped in a local minimum?"
   ]
  },
  {
   "cell_type": "code",
   "execution_count": 23,
   "id": "565f15b4-1f90-4bf5-a990-9ad866ed39b9",
   "metadata": {},
   "outputs": [],
   "source": [
    "from sklearn.cluster import KMeans\n",
    "X_train, X_test, y_train, y_test = train_test_split(wdbc_X, wdbc_y_b, test_size=0.2, random_state=42, stratify = wdbc_y)\n",
    "scaler = MinMaxScaler()\n",
    "scaler.fit(X_train)\n",
    "X_train = scaler.transform(X_train)\n",
    "X_test = scaler.transform(X_test)\n",
    "kmeans = KMeans(n_clusters=2, random_state = 42).fit(X_train)"
   ]
  },
  {
   "cell_type": "markdown",
   "id": "a862afd8-de4b-4449-b6ed-c4481eb289dc",
   "metadata": {},
   "source": [
    "* B. Compute the centers of the two clusters and find the closest 30 data points to each center. Read the true labels of those 30 data points and take a majority poll within them. The majority poll becomes the label predicted by k-means for the members of each cluster. Then compare the labels provided by k-means with the true labels of the training data and report the average accuracy, precision, recall, F1-score, and AUC over M runs, and ROC and the confusion matrix for one of the runs."
   ]
  },
  {
   "cell_type": "code",
   "execution_count": 24,
   "id": "0ef41507-f990-4b5e-bd1f-10f402d42625",
   "metadata": {},
   "outputs": [],
   "source": [
    "center0 = kmeans.cluster_centers_[0]\n",
    "center1 = kmeans.cluster_centers_[1]"
   ]
  },
  {
   "cell_type": "code",
   "execution_count": 25,
   "id": "292d2644-68ad-4945-a397-e4b29124873b",
   "metadata": {},
   "outputs": [],
   "source": [
    "distance_to_0s = []\n",
    "for x in X_train:\n",
    "    distance_to_0 = np.sqrt(np.sum(np.power((x-center0),2)))\n",
    "    distance_to_0s.append(distance_to_0)"
   ]
  },
  {
   "cell_type": "code",
   "execution_count": 26,
   "id": "4f4cf074-f422-4abc-b18f-c5c65b24a78d",
   "metadata": {},
   "outputs": [],
   "source": [
    "distance_to_1s = []\n",
    "for x in X_train:\n",
    "    distance_to_1 = np.sqrt(np.sum(np.power((x-center1),2)))\n",
    "    distance_to_1s.append(distance_to_1)"
   ]
  },
  {
   "cell_type": "code",
   "execution_count": 27,
   "id": "9384ff01-07b0-4c17-99ec-ac92a85e1a94",
   "metadata": {},
   "outputs": [],
   "source": [
    "d0_sort = np.argsort(distance_to_0s)\n",
    "d1_sort = np.argsort(distance_to_1s)"
   ]
  },
  {
   "cell_type": "code",
   "execution_count": 28,
   "id": "febe2634-2992-44e1-bd1a-c78890f97122",
   "metadata": {},
   "outputs": [
    {
     "data": {
      "text/plain": [
       "455"
      ]
     },
     "execution_count": 28,
     "metadata": {},
     "output_type": "execute_result"
    }
   ],
   "source": [
    "len(d0_sort)"
   ]
  },
  {
   "cell_type": "code",
   "execution_count": 29,
   "id": "56309efa-8688-4073-9775-82f854c9b427",
   "metadata": {},
   "outputs": [],
   "source": [
    "counter_0 = []\n",
    "for index in d0_sort[:30]:\n",
    "    counter_0.append(y_train[index])\n",
    "counter_1 = []\n",
    "for index in d1_sort[:30]:\n",
    "    counter_1.append(y_train[index])"
   ]
  },
  {
   "cell_type": "code",
   "execution_count": 30,
   "id": "5c655354-55dc-488c-ad9b-af06ccd98e7c",
   "metadata": {},
   "outputs": [
    {
     "data": {
      "text/plain": [
       "0"
      ]
     },
     "execution_count": 30,
     "metadata": {},
     "output_type": "execute_result"
    }
   ],
   "source": [
    "from collections import Counter\n",
    "Counter(counter_0).most_common(1)[0][0]"
   ]
  },
  {
   "cell_type": "code",
   "execution_count": 31,
   "id": "7c229208-0201-4ce9-b36b-a0b926926840",
   "metadata": {},
   "outputs": [
    {
     "data": {
      "text/plain": [
       "1"
      ]
     },
     "execution_count": 31,
     "metadata": {},
     "output_type": "execute_result"
    }
   ],
   "source": [
    "from collections import Counter\n",
    "Counter(counter_1).most_common(1)[0][0]"
   ]
  },
  {
   "cell_type": "markdown",
   "id": "396ed6f5-a975-41b4-bb38-88dfec218c78",
   "metadata": {},
   "source": [
    "cluster0: class 0  \n",
    "cluster1: class 1"
   ]
  },
  {
   "cell_type": "code",
   "execution_count": 54,
   "id": "2e1d2c99-fa97-4043-bafe-9de2de0644eb",
   "metadata": {},
   "outputs": [],
   "source": [
    "pred_result = kmeans.labels_"
   ]
  },
  {
   "cell_type": "code",
   "execution_count": 55,
   "id": "196e508e-754c-4822-96c1-7e6cf8de3ac3",
   "metadata": {},
   "outputs": [],
   "source": [
    "def report_clf(train_y, pred_train, plot = True):\n",
    "    accuracy_train = accuracy_score(train_y, pred_train)\n",
    "    precision_train = precision_score(train_y, pred_train)\n",
    "    recall_train = recall_score(train_y, pred_train)\n",
    "    f1_train = f1_score(train_y, pred_train)\n",
    "    fpr, tpr, thresholds = roc_curve(train_y, pred_train)\n",
    "    roc_auc_train = auc(fpr, tpr)\n",
    "    confusion_matrix_train = confusion_matrix(train_y, pred_train)\n",
    "    train_report = {\n",
    "        'accuracy':accuracy_train,\n",
    "        'precision':precision_train,\n",
    "        'recall':recall_train,\n",
    "        'f1':f1_train,\n",
    "        'auc':roc_auc_train\n",
    "    }\n",
    "    if plot == True:\n",
    "        print('Train:')\n",
    "        print(train_report)\n",
    "        print(confusion_matrix_train)\n",
    "    if plot == True:\n",
    "        plt.figure()\n",
    "        lw = 2\n",
    "        plt.plot(fpr, tpr, lw=lw)\n",
    "        plt.plot([0, 1], [0, 1], lw=lw, linestyle='--')\n",
    "        plt.xlim([0.0, 1.0])\n",
    "        plt.ylim([0.0, 1.05])\n",
    "        plt.xlabel('FPR')\n",
    "        plt.ylabel('TPR')\n",
    "        plt.title('ROC and AUC')\n",
    "        plt.show()\n",
    "    \n",
    "    return train_report"
   ]
  },
  {
   "cell_type": "code",
   "execution_count": 56,
   "id": "ea9c9171-1b4d-49a3-8496-11b443ee3b1f",
   "metadata": {},
   "outputs": [
    {
     "name": "stdout",
     "output_type": "stream",
     "text": [
      "Train:\n",
      "{'accuracy': 0.9164835164835164, 'precision': 0.9583333333333334, 'recall': 0.8117647058823529, 'f1': 0.8789808917197452, 'auc': 0.8953560371517029}\n",
      "[[279   6]\n",
      " [ 32 138]]\n"
     ]
    },
    {
     "data": {
      "image/png": "[encoded data removed]",
      "text/plain": [
       "<Figure size 432x288 with 1 Axes>"
      ]
     },
     "metadata": {
      "needs_background": "light"
     },
     "output_type": "display_data"
    },
    {
     "data": {
      "text/plain": [
       "{'accuracy': 0.9164835164835164,\n",
       " 'precision': 0.9583333333333334,\n",
       " 'recall': 0.8117647058823529,\n",
       " 'f1': 0.8789808917197452,\n",
       " 'auc': 0.8953560371517029}"
      ]
     },
     "execution_count": 56,
     "metadata": {},
     "output_type": "execute_result"
    }
   ],
   "source": [
    "report_clf(y_train, pred_result)"
   ]
  },
  {
   "cell_type": "markdown",
   "id": "87c5d63d-0213-4e24-af35-4de2bcbbdfb8",
   "metadata": {},
   "source": [
    "* C. Classify test data based on their proximity to the centers of the clusters. Report the average accuracy, precision, recall, F1-score, and AUC over M runs, and ROC and the confusion matrix for one of the runs for the test data."
   ]
  },
  {
   "cell_type": "code",
   "execution_count": 57,
   "id": "b6514e1e-e54b-4acb-a22d-eef5f7754bba",
   "metadata": {},
   "outputs": [],
   "source": [
    "pred_test = kmeans.predict(X_test)"
   ]
  },
  {
   "cell_type": "code",
   "execution_count": 58,
   "id": "0314b1b4-3c6a-4d1d-834c-ecae02cf8669",
   "metadata": {},
   "outputs": [
    {
     "name": "stdout",
     "output_type": "stream",
     "text": [
      "Train:\n",
      "{'accuracy': 0.9473684210526315, 'precision': 0.9285714285714286, 'recall': 0.9285714285714286, 'f1': 0.9285714285714286, 'auc': 0.943452380952381}\n",
      "[[69  3]\n",
      " [ 3 39]]\n"
     ]
    },
    {
     "data": {
      "image/png": "[encoded data removed]",
      "text/plain": [
       "<Figure size 432x288 with 1 Axes>"
      ]
     },
     "metadata": {
      "needs_background": "light"
     },
     "output_type": "display_data"
    },
    {
     "data": {
      "text/plain": [
       "{'accuracy': 0.9473684210526315,\n",
       " 'precision': 0.9285714285714286,\n",
       " 'recall': 0.9285714285714286,\n",
       " 'f1': 0.9285714285714286,\n",
       " 'auc': 0.943452380952381}"
      ]
     },
     "execution_count": 58,
     "metadata": {},
     "output_type": "execute_result"
    }
   ],
   "source": [
    "report_clf(y_test, pred_test)"
   ]
  },
  {
   "cell_type": "markdown",
   "id": "4353cae1-28fa-4ced-b6f2-82f0d4d13861",
   "metadata": {},
   "source": [
    "* Monte Carlo Simulation"
   ]
  },
  {
   "cell_type": "code",
   "execution_count": 59,
   "id": "6fdac947-0361-4d9f-9a54-d29601fa638f",
   "metadata": {},
   "outputs": [],
   "source": [
    "unsupervised_train = {}\n",
    "unsupervised_test = {}\n",
    "for i in range(30):\n",
    "    X_train, X_test, y_train, y_test = train_test_split(wdbc_X, wdbc_y_b, test_size=0.2, random_state=i, stratify = wdbc_y)\n",
    "    scaler = MinMaxScaler()\n",
    "    scaler.fit(X_train)\n",
    "    X_train = scaler.transform(X_train)\n",
    "    X_test = scaler.transform(X_test)\n",
    "    kmeans = KMeans(n_clusters=2, random_state = i).fit(X_train)\n",
    "    center0 = kmeans.cluster_centers_[0]\n",
    "    center1 = kmeans.cluster_centers_[1]\n",
    "    distance_to_0s = []\n",
    "    for x in X_train:\n",
    "        distance_to_0 = np.sqrt(np.sum(np.power((x-center0),2)))\n",
    "        distance_to_0s.append(distance_to_0)\n",
    "    distance_to_1s = []\n",
    "    for x in X_train:\n",
    "        distance_to_1 = np.sqrt(np.sum(np.power((x-center1),2)))\n",
    "        distance_to_1s.append(distance_to_1)\n",
    "    d0_sort = np.argsort(distance_to_0s)\n",
    "    d1_sort = np.argsort(distance_to_1s)\n",
    "    counter_0 = []\n",
    "    for index in d0_sort[:30]:\n",
    "        counter_0.append(y_train[index])\n",
    "    counter_1 = []\n",
    "    for index in d1_sort[:30]:\n",
    "        counter_1.append(y_train[index])\n",
    "    class_0 = Counter(counter_0).most_common(1)[0][0]\n",
    "    class_1 = Counter(counter_1).most_common(1)[0][0]\n",
    "    cluster_to_class = {0:class_0, 1:class_1}\n",
    "    pred_result = []\n",
    "    for label in kmeans.labels_:\n",
    "        pred_result.append(cluster_to_class[label])\n",
    "    train_report = report_clf(y_train, pred_result, plot = False)\n",
    "    pred_test = []\n",
    "    pred_test_raw = kmeans.predict(X_test)\n",
    "    for label in pred_test_raw:\n",
    "        pred_test.append(cluster_to_class[label])\n",
    "    test_report = report_clf(y_test, pred_test, plot = False)\n",
    "    for key in train_report.keys():\n",
    "        if key not in unsupervised_train.keys():\n",
    "            unsupervised_train[key] = []\n",
    "        unsupervised_train[key].append(train_report[key])\n",
    "    for key in test_report.keys():\n",
    "        if key not in unsupervised_test.keys():\n",
    "            unsupervised_test[key] = []\n",
    "        unsupervised_test[key].append(test_report[key])"
   ]
  },
  {
   "cell_type": "code",
   "execution_count": 60,
   "id": "7666089e-feca-4be0-900a-1d930835a092",
   "metadata": {},
   "outputs": [
    {
     "name": "stdout",
     "output_type": "stream",
     "text": [
      "Train: {'accuracy': 0.9262271062271062, 'precision': 0.9518246367113614, 'recall': 0.8456862745098039, 'f1': 0.8954422227577598, 'auc': 0.9099776401788786}\n",
      "Test: {'accuracy': 0.924561403508772, 'precision': 0.9410308109110548, 'recall': 0.8492063492063492, 'f1': 0.8918560413783794, 'auc': 0.9088624338624338}\n"
     ]
    }
   ],
   "source": [
    "unsupervised_train_result = {}\n",
    "unsupervised_test_result = {}\n",
    "for key in unsupervised_train.keys():\n",
    "    unsupervised_train_result[key] = np.mean(unsupervised_train[key])\n",
    "for key in unsupervised_test.keys():\n",
    "    unsupervised_test_result[key] = np.mean(unsupervised_test[key])\n",
    "print('Train:', unsupervised_train_result)\n",
    "print('Test:', unsupervised_test_result)"
   ]
  },
  {
   "cell_type": "markdown",
   "id": "8fd7f7b0-6766-4cb5-807d-b58118571b87",
   "metadata": {},
   "source": [
    "##### iv. Spectral Clustering: Repeat 1(b)iii using spectral clustering, which is clustering based on kernels. Research what spectral clustering is. Use RBF kernel with gamma=1 or find a gamma for which the two clutsres have the same balance as the one in original data set (if the positive class has p and the negative class has n samples, the two clusters must have p and n members). Do not label data based on their proximity to cluster center, because spectral clustering may give you non-convex clusters . Instead, use fit − predict method."
   ]
  },
  {
   "cell_type": "code",
   "execution_count": 72,
   "id": "d1f77650-9994-47ca-acf3-78c5ff9457f4",
   "metadata": {},
   "outputs": [],
   "source": [
    "from sklearn.cluster import SpectralClustering\n",
    "spectral_clustering = SpectralClustering(n_clusters=2,affinity = 'rbf', gamma = 1, random_state=0).fit(X_train)"
   ]
  },
  {
   "cell_type": "code",
   "execution_count": 73,
   "id": "e992dafe-e33f-4715-bd15-951634206a5e",
   "metadata": {},
   "outputs": [],
   "source": [
    "pred_train = spectral_clustering.labels_"
   ]
  },
  {
   "cell_type": "code",
   "execution_count": 74,
   "id": "852358ab-5997-4a80-9398-b7654a1cdc85",
   "metadata": {},
   "outputs": [],
   "source": [
    "counter_0 = []\n",
    "counter_1 = []\n",
    "for index, label in enumerate(spectral_clustering.labels_):\n",
    "    if label == 0:\n",
    "        counter_0.append(y_train[index])\n",
    "    if label == 1:\n",
    "        counter_1.append(y_train[index])"
   ]
  },
  {
   "cell_type": "code",
   "execution_count": 75,
   "id": "eba54b31-19c3-4462-99ac-757d00e648aa",
   "metadata": {},
   "outputs": [
    {
     "data": {
      "text/plain": [
       "Counter({1: 77, 0: 284})"
      ]
     },
     "execution_count": 75,
     "metadata": {},
     "output_type": "execute_result"
    }
   ],
   "source": [
    "Counter(counter_0)"
   ]
  },
  {
   "cell_type": "code",
   "execution_count": 76,
   "id": "eb3117cc-4feb-46ed-b554-d621b52b535e",
   "metadata": {},
   "outputs": [
    {
     "data": {
      "text/plain": [
       "Counter({1: 93, 0: 1})"
      ]
     },
     "execution_count": 76,
     "metadata": {},
     "output_type": "execute_result"
    }
   ],
   "source": [
    "Counter(counter_1)"
   ]
  },
  {
   "cell_type": "markdown",
   "id": "c924a683-dd46-4661-8c60-2884f8b6428a",
   "metadata": {},
   "source": [
    "Cluster0 -> Class0; Cluster1 -> Class1"
   ]
  },
  {
   "cell_type": "code",
   "execution_count": 77,
   "id": "7dc0be49-5197-40ea-97d1-8c7cf3f58228",
   "metadata": {},
   "outputs": [],
   "source": [
    "pred_train = pred_train "
   ]
  },
  {
   "cell_type": "code",
   "execution_count": 78,
   "id": "8ff05ff0-614b-416b-b1c2-34fb5b591aba",
   "metadata": {},
   "outputs": [
    {
     "data": {
      "text/plain": [
       "KNeighborsClassifier(n_neighbors=1)"
      ]
     },
     "execution_count": 78,
     "metadata": {},
     "output_type": "execute_result"
    }
   ],
   "source": [
    "from sklearn.neighbors import KNeighborsClassifier\n",
    "KNN = KNeighborsClassifier(n_neighbors=1)\n",
    "KNN.fit(X_train, pred_train)"
   ]
  },
  {
   "cell_type": "code",
   "execution_count": 79,
   "id": "8530439b-bbbe-40b6-9112-9f752cd875f8",
   "metadata": {},
   "outputs": [],
   "source": [
    "pred_test = KNN.predict(X_test)"
   ]
  },
  {
   "cell_type": "code",
   "execution_count": 80,
   "id": "64c6f730-c5cc-4ac7-a077-0775c4b07aaf",
   "metadata": {},
   "outputs": [
    {
     "data": {
      "text/plain": [
       "array([0, 1, 0, 1, 1, 0, 1, 0, 1, 0, 0, 0, 1, 0, 1, 0, 0, 0, 0, 0, 0, 0,\n",
       "       0, 1, 1, 0, 0, 0, 1, 1, 0, 1, 0, 0, 0, 0, 0, 0, 0, 0, 0, 0, 0, 0,\n",
       "       0, 0, 0, 1, 1, 0, 0, 1, 0, 0, 0, 0, 0, 0, 0, 0, 0, 0, 1, 1, 0, 0,\n",
       "       0, 0, 1, 0, 0, 0, 1, 0, 0, 1, 0, 0, 0, 0, 0, 0, 1, 0, 0, 0, 1, 0,\n",
       "       0, 1, 0, 1, 0, 0, 0, 0, 1, 0, 0, 0, 0, 0, 0, 0, 0, 0, 1, 0, 0, 0,\n",
       "       0, 1, 1, 0], dtype=int32)"
      ]
     },
     "execution_count": 80,
     "metadata": {},
     "output_type": "execute_result"
    }
   ],
   "source": [
    "pred_test"
   ]
  },
  {
   "cell_type": "code",
   "execution_count": 81,
   "id": "f42cbe01-52cf-483c-8b28-81246ff48926",
   "metadata": {},
   "outputs": [
    {
     "name": "stdout",
     "output_type": "stream",
     "text": [
      "Train:\n",
      "{'accuracy': 0.8285714285714286, 'precision': 0.9893617021276596, 'recall': 0.5470588235294118, 'f1': 0.7045454545454546, 'auc': 0.7717750257997936}\n",
      "[[284   1]\n",
      " [ 77  93]]\n"
     ]
    },
    {
     "data": {
      "image/png": "[encoded data removed]",
      "text/plain": [
       "<Figure size 432x288 with 1 Axes>"
      ]
     },
     "metadata": {
      "needs_background": "light"
     },
     "output_type": "display_data"
    },
    {
     "data": {
      "text/plain": [
       "{'accuracy': 0.8285714285714286,\n",
       " 'precision': 0.9893617021276596,\n",
       " 'recall': 0.5470588235294118,\n",
       " 'f1': 0.7045454545454546,\n",
       " 'auc': 0.7717750257997936}"
      ]
     },
     "execution_count": 81,
     "metadata": {},
     "output_type": "execute_result"
    }
   ],
   "source": [
    "report_clf(y_train, pred_train)"
   ]
  },
  {
   "cell_type": "code",
   "execution_count": 82,
   "id": "ee00083b-67f3-4586-ae65-3d0aa9696e7a",
   "metadata": {},
   "outputs": [
    {
     "name": "stdout",
     "output_type": "stream",
     "text": [
      "Train:\n",
      "{'accuracy': 0.8596491228070176, 'precision': 0.9642857142857143, 'recall': 0.6428571428571429, 'f1': 0.7714285714285715, 'auc': 0.814484126984127}\n",
      "[[71  1]\n",
      " [15 27]]\n"
     ]
    },
    {
     "data": {
      "image/png": "[encoded data removed]",
      "text/plain": [
       "<Figure size 432x288 with 1 Axes>"
      ]
     },
     "metadata": {
      "needs_background": "light"
     },
     "output_type": "display_data"
    },
    {
     "data": {
      "text/plain": [
       "{'accuracy': 0.8596491228070176,\n",
       " 'precision': 0.9642857142857143,\n",
       " 'recall': 0.6428571428571429,\n",
       " 'f1': 0.7714285714285715,\n",
       " 'auc': 0.814484126984127}"
      ]
     },
     "execution_count": 82,
     "metadata": {},
     "output_type": "execute_result"
    }
   ],
   "source": [
    "report_clf(y_test, pred_test)"
   ]
  },
  {
   "cell_type": "markdown",
   "id": "4fddf73f-99c2-4a6a-8a37-03429b15ccd3",
   "metadata": {},
   "source": [
    "* Monte Carlo Simulation"
   ]
  },
  {
   "cell_type": "code",
   "execution_count": 83,
   "id": "1bf3ebd8-e879-4f99-9411-2ec619dfcaf8",
   "metadata": {},
   "outputs": [],
   "source": [
    "spectral_clustering_train = {}\n",
    "spectral_clustering_test = {}\n",
    "for i in range(30):\n",
    "    X_train, X_test, y_train, y_test = train_test_split(wdbc_X, wdbc_y_b, test_size=0.2, random_state=i, stratify = wdbc_y)\n",
    "    scaler = MinMaxScaler()\n",
    "    scaler.fit(X_train)\n",
    "    X_train = scaler.transform(X_train)\n",
    "    X_test = scaler.transform(X_test)\n",
    "    spectral_clustering = SpectralClustering(n_clusters=2, affinity = 'rbf', gamma = 1, random_state=0).fit(X_train)\n",
    "    pred_result = spectral_clustering.labels_\n",
    "    counter_0 = []\n",
    "    counter_1 = []\n",
    "    for index, label in enumerate(spectral_clustering.labels_):\n",
    "        if label == 0:\n",
    "            counter_0.append(y_train[index])\n",
    "        if label == 1:\n",
    "            counter_1.append(y_train[index])\n",
    "    class_0 = Counter(counter_0).most_common(1)[0][0]\n",
    "    class_1 = Counter(counter_1).most_common(1)[0][0]\n",
    "    cluster_to_class = {0:class_0, 1:class_1}\n",
    "    pred_train = []\n",
    "    for label in pred_result:\n",
    "        pred_train.append(cluster_to_class[label])\n",
    "    KNN = KNeighborsClassifier(n_neighbors=1)\n",
    "    KNN.fit(X_train, pred_train)\n",
    "    pred_test = KNN.predict(X_test)\n",
    "    train_report = report_clf(y_train, pred_train, plot = False)\n",
    "    test_report = report_clf(y_test, pred_test, plot = False)\n",
    "    for key in train_report.keys():\n",
    "        if key not in spectral_clustering_train.keys():\n",
    "            spectral_clustering_train[key] = []\n",
    "        spectral_clustering_train[key].append(train_report[key])\n",
    "    for key in test_report.keys():\n",
    "        if key not in spectral_clustering_test.keys():\n",
    "            spectral_clustering_test[key] = []\n",
    "        spectral_clustering_test[key].append(test_report[key])"
   ]
  },
  {
   "cell_type": "code",
   "execution_count": 84,
   "id": "28cbea44-3928-4122-83f4-dadc185a2196",
   "metadata": {},
   "outputs": [
    {
     "name": "stdout",
     "output_type": "stream",
     "text": [
      "Train: {'accuracy': 0.8625641025641025, 'precision': 0.980214448953919, 'recall': 0.6452941176470588, 'f1': 0.7771390188373937, 'auc': 0.8187289301685585}\n",
      "Test: {'accuracy': 0.8654970760233918, 'precision': 0.9955231882315215, 'recall': 0.638095238095238, 'f1': 0.7745512023488176, 'auc': 0.818121693121693}\n"
     ]
    }
   ],
   "source": [
    "spectral_train_result = {}\n",
    "spectral_test_result = {}\n",
    "for key in spectral_clustering_train.keys():\n",
    "    spectral_train_result[key] = np.mean(spectral_clustering_train[key])\n",
    "for key in spectral_clustering_test.keys():\n",
    "    spectral_test_result[key] = np.mean(spectral_clustering_test[key])\n",
    "print('Train:', spectral_train_result)\n",
    "print('Test:', spectral_test_result)"
   ]
  },
  {
   "cell_type": "markdown",
   "id": "5dc74788-8935-4705-a1b5-2931ebec02f9",
   "metadata": {},
   "source": [
    "##### v. One can expect that supervised learning on the full data set works better than semi-supervised learning with half of the data set labeled.One can expect that unsupervised learning underperforms in such situations. Compare the results you obtained by those methods."
   ]
  },
  {
   "cell_type": "code",
   "execution_count": 85,
   "id": "3ef1f9c9-4887-4968-89e6-abd5159eafeb",
   "metadata": {},
   "outputs": [
    {
     "data": {
      "text/html": [
       "<div>\n",
       "<style scoped>\n",
       "    .dataframe tbody tr th:only-of-type {\n",
       "        vertical-align: middle;\n",
       "    }\n",
       "\n",
       "    .dataframe tbody tr th {\n",
       "        vertical-align: top;\n",
       "    }\n",
       "\n",
       "    .dataframe thead th {\n",
       "        text-align: right;\n",
       "    }\n",
       "</style>\n",
       "<table border=\"1\" class=\"dataframe\">\n",
       "  <thead>\n",
       "    <tr style=\"text-align: right;\">\n",
       "      <th></th>\n",
       "      <th>Supervised</th>\n",
       "      <th>Semi-Supervised</th>\n",
       "      <th>Unsupervised</th>\n",
       "      <th>Spectral Clustering</th>\n",
       "    </tr>\n",
       "  </thead>\n",
       "  <tbody>\n",
       "    <tr>\n",
       "      <th>accuracy</th>\n",
       "      <td>0.985788</td>\n",
       "      <td>0.988967</td>\n",
       "      <td>0.926227</td>\n",
       "      <td>0.862564</td>\n",
       "    </tr>\n",
       "    <tr>\n",
       "      <th>precision</th>\n",
       "      <td>0.990225</td>\n",
       "      <td>0.994887</td>\n",
       "      <td>0.951825</td>\n",
       "      <td>0.980214</td>\n",
       "    </tr>\n",
       "    <tr>\n",
       "      <th>recall</th>\n",
       "      <td>0.971569</td>\n",
       "      <td>0.975472</td>\n",
       "      <td>0.845686</td>\n",
       "      <td>0.645294</td>\n",
       "    </tr>\n",
       "    <tr>\n",
       "      <th>f1</th>\n",
       "      <td>0.980787</td>\n",
       "      <td>0.985053</td>\n",
       "      <td>0.895442</td>\n",
       "      <td>0.777139</td>\n",
       "    </tr>\n",
       "    <tr>\n",
       "      <th>auc</th>\n",
       "      <td>0.982919</td>\n",
       "      <td>0.986238</td>\n",
       "      <td>0.909978</td>\n",
       "      <td>0.818729</td>\n",
       "    </tr>\n",
       "  </tbody>\n",
       "</table>\n",
       "</div>"
      ],
      "text/plain": [
       "           Supervised  Semi-Supervised  Unsupervised  Spectral Clustering\n",
       "accuracy     0.985788         0.988967      0.926227             0.862564\n",
       "precision    0.990225         0.994887      0.951825             0.980214\n",
       "recall       0.971569         0.975472      0.845686             0.645294\n",
       "f1           0.980787         0.985053      0.895442             0.777139\n",
       "auc          0.982919         0.986238      0.909978             0.818729"
      ]
     },
     "execution_count": 85,
     "metadata": {},
     "output_type": "execute_result"
    }
   ],
   "source": [
    "# Training\n",
    "train_whole = {}\n",
    "for key in supervised_train_result.keys():\n",
    "    if key not in train_whole.keys():\n",
    "        train_whole[key] = []\n",
    "    train_whole[key].append(supervised_train_result[key])\n",
    "for key in semi_supervised_train_result.keys():\n",
    "    train_whole[key].append(semi_supervised_train_result[key])\n",
    "for key in unsupervised_train_result.keys():\n",
    "    train_whole[key].append(unsupervised_train_result[key])\n",
    "for key in spectral_train_result.keys():\n",
    "    train_whole[key].append(spectral_train_result[key])\n",
    "pd.DataFrame.from_dict(train_whole, orient='index', columns = ['Supervised','Semi-Supervised','Unsupervised','Spectral Clustering'])"
   ]
  },
  {
   "cell_type": "code",
   "execution_count": 86,
   "id": "0462b84c-2ef5-4e2d-9683-b795201f5753",
   "metadata": {},
   "outputs": [
    {
     "data": {
      "text/html": [
       "<div>\n",
       "<style scoped>\n",
       "    .dataframe tbody tr th:only-of-type {\n",
       "        vertical-align: middle;\n",
       "    }\n",
       "\n",
       "    .dataframe tbody tr th {\n",
       "        vertical-align: top;\n",
       "    }\n",
       "\n",
       "    .dataframe thead th {\n",
       "        text-align: right;\n",
       "    }\n",
       "</style>\n",
       "<table border=\"1\" class=\"dataframe\">\n",
       "  <thead>\n",
       "    <tr style=\"text-align: right;\">\n",
       "      <th></th>\n",
       "      <th>Supervised</th>\n",
       "      <th>Semi-Supervised</th>\n",
       "      <th>Unsupervised</th>\n",
       "      <th>Spectral Clustering</th>\n",
       "    </tr>\n",
       "  </thead>\n",
       "  <tbody>\n",
       "    <tr>\n",
       "      <th>accuracy</th>\n",
       "      <td>0.963158</td>\n",
       "      <td>0.966082</td>\n",
       "      <td>0.924561</td>\n",
       "      <td>0.865497</td>\n",
       "    </tr>\n",
       "    <tr>\n",
       "      <th>precision</th>\n",
       "      <td>0.969789</td>\n",
       "      <td>0.962701</td>\n",
       "      <td>0.941031</td>\n",
       "      <td>0.995523</td>\n",
       "    </tr>\n",
       "    <tr>\n",
       "      <th>recall</th>\n",
       "      <td>0.929365</td>\n",
       "      <td>0.945912</td>\n",
       "      <td>0.849206</td>\n",
       "      <td>0.638095</td>\n",
       "    </tr>\n",
       "    <tr>\n",
       "      <th>f1</th>\n",
       "      <td>0.948759</td>\n",
       "      <td>0.953937</td>\n",
       "      <td>0.891856</td>\n",
       "      <td>0.774551</td>\n",
       "    </tr>\n",
       "    <tr>\n",
       "      <th>auc</th>\n",
       "      <td>0.956118</td>\n",
       "      <td>0.961969</td>\n",
       "      <td>0.908862</td>\n",
       "      <td>0.818122</td>\n",
       "    </tr>\n",
       "  </tbody>\n",
       "</table>\n",
       "</div>"
      ],
      "text/plain": [
       "           Supervised  Semi-Supervised  Unsupervised  Spectral Clustering\n",
       "accuracy     0.963158         0.966082      0.924561             0.865497\n",
       "precision    0.969789         0.962701      0.941031             0.995523\n",
       "recall       0.929365         0.945912      0.849206             0.638095\n",
       "f1           0.948759         0.953937      0.891856             0.774551\n",
       "auc          0.956118         0.961969      0.908862             0.818122"
      ]
     },
     "execution_count": 86,
     "metadata": {},
     "output_type": "execute_result"
    }
   ],
   "source": [
    "# Test\n",
    "test_whole = {}\n",
    "for key in supervised_test_result.keys():\n",
    "    if key not in test_whole.keys():\n",
    "        test_whole[key] = []\n",
    "    test_whole[key].append(supervised_test_result[key])\n",
    "for key in semi_supervised_test_result.keys():\n",
    "    test_whole[key].append(semi_supervised_test_result[key])\n",
    "for key in unsupervised_test_result.keys():\n",
    "    test_whole[key].append(unsupervised_test_result[key])\n",
    "for key in spectral_test_result.keys():\n",
    "    test_whole[key].append(spectral_test_result[key])\n",
    "pd.DataFrame.from_dict(test_whole, orient='index', columns = ['Supervised','Semi-Supervised','Unsupervised','Spectral Clustering'])"
   ]
  },
  {
   "cell_type": "markdown",
   "id": "fbdc56ca-95f5-4dfd-960a-b01686cb57e9",
   "metadata": {},
   "source": [
    "### 2. Active Learning Using Support Vector Machines  \n",
    "#### (a) Download the banknote authentication Data Set from: https://archive.ics. uci.edu/ml/datasets/banknote+authentication. Choose 472 data points randomly as the test set, and the remaining 900 points as the training set. This is a binary classification problem."
   ]
  },
  {
   "cell_type": "code",
   "execution_count": 183,
   "id": "2f562398-6c28-4f2c-a711-50c9d68ec3ef",
   "metadata": {},
   "outputs": [],
   "source": [
    "booknote_data = pd.read_csv('../data/data_banknote_authentication.txt', sep=\",\", header=None)\n",
    "booknote_X = booknote_data.iloc[:,:4]\n",
    "booknote_y = booknote_data.iloc[:,4]"
   ]
  },
  {
   "cell_type": "code",
   "execution_count": 190,
   "id": "e81e88c8-e2c6-408e-ba0d-cf9c15e0da9a",
   "metadata": {},
   "outputs": [],
   "source": [
    "booknote_X_train, booknote_X_test, booknote_y_train, booknote_y_test = train_test_split(booknote_X, booknote_y, test_size=0.344, random_state=42)"
   ]
  },
  {
   "cell_type": "markdown",
   "id": "ecdcd489-e197-41bf-8a0b-1d41bfe57412",
   "metadata": {},
   "source": [
    "#### (b) Repeat each of the following two procedures 50 times. You will have 50 errors for 90 SVMs per each procedure.  \n",
    "##### i. Train a SVM with a pool of 10 randomly selected data points from the training set using linear kernel and L1 penalty. Select the penalty parameter using 5-fold cross validation. Repeat this process by adding 10 other randomly selected data points to the pool, until you use all the 900 points. Do NOT replace the samples back into the training set at each step. Calculate the test error for each SVM. You will have 90 SVMs that were trained using 10, 20, 30, ... , 900 data points and their 90 test errors. You have implemented passive learning."
   ]
  },
  {
   "cell_type": "code",
   "execution_count": 212,
   "id": "eb5155f5-be58-463a-8b00-9632f5b5a4b2",
   "metadata": {},
   "outputs": [],
   "source": [
    "import random\n",
    "num_list = list(np.arange(900))\n",
    "random_data_X = []\n",
    "random_data_y = []\n",
    "for i in range(90):\n",
    "    new_data_list = []\n",
    "    new_data_y = []\n",
    "    for j in range(10):\n",
    "        new_dp = random.choice(num_list)\n",
    "        num_list.remove(new_dp)\n",
    "        new_data_list.append(list(booknote_X_train.iloc[new_dp]))\n",
    "        new_data_y.append(booknote_y_train.iloc[new_dp])\n",
    "    random_data_X.append(new_data_list)\n",
    "    random_data_y.append(new_data_y)"
   ]
  },
  {
   "cell_type": "code",
   "execution_count": 216,
   "id": "59674156-f7fc-4829-b008-085459a674c7",
   "metadata": {},
   "outputs": [
    {
     "name": "stdout",
     "output_type": "stream",
     "text": [
      "0 test error: 0.14830508474576276\n",
      "1 test error: 0.1228813559322034\n",
      "2 test error: 0.03813559322033899\n",
      "3 test error: 0.01906779661016944\n",
      "4 test error: 0.01906779661016944\n",
      "5 test error: 0.014830508474576232\n",
      "6 test error: 0.014830508474576232\n",
      "7 test error: 0.014830508474576232\n",
      "8 test error: 0.014830508474576232\n",
      "9 test error: 0.016949152542372836\n",
      "10 test error: 0.016949152542372836\n",
      "11 test error: 0.016949152542372836\n",
      "12 test error: 0.008474576271186418\n",
      "13 test error: 0.008474576271186418\n",
      "14 test error: 0.008474576271186418\n",
      "15 test error: 0.008474576271186418\n",
      "16 test error: 0.008474576271186418\n",
      "17 test error: 0.010593220338983023\n",
      "18 test error: 0.010593220338983023\n",
      "19 test error: 0.010593220338983023\n",
      "20 test error: 0.010593220338983023\n",
      "21 test error: 0.010593220338983023\n",
      "22 test error: 0.010593220338983023\n",
      "23 test error: 0.010593220338983023\n",
      "24 test error: 0.012711864406779627\n",
      "25 test error: 0.010593220338983023\n",
      "26 test error: 0.012711864406779627\n",
      "27 test error: 0.012711864406779627\n",
      "28 test error: 0.012711864406779627\n",
      "29 test error: 0.010593220338983023\n",
      "30 test error: 0.012711864406779627\n",
      "31 test error: 0.010593220338983023\n",
      "32 test error: 0.010593220338983023\n",
      "33 test error: 0.010593220338983023\n",
      "34 test error: 0.010593220338983023\n",
      "35 test error: 0.010593220338983023\n",
      "36 test error: 0.010593220338983023\n",
      "37 test error: 0.012711864406779627\n",
      "38 test error: 0.012711864406779627\n",
      "39 test error: 0.012711864406779627\n",
      "40 test error: 0.012711864406779627\n",
      "41 test error: 0.012711864406779627\n",
      "42 test error: 0.012711864406779627\n",
      "43 test error: 0.012711864406779627\n",
      "44 test error: 0.010593220338983023\n",
      "45 test error: 0.012711864406779627\n",
      "46 test error: 0.010593220338983023\n",
      "47 test error: 0.012711864406779627\n",
      "48 test error: 0.010593220338983023\n",
      "49 test error: 0.010593220338983023\n",
      "50 test error: 0.010593220338983023\n",
      "51 test error: 0.010593220338983023\n",
      "52 test error: 0.010593220338983023\n",
      "53 test error: 0.010593220338983023\n",
      "54 test error: 0.010593220338983023\n",
      "55 test error: 0.010593220338983023\n",
      "56 test error: 0.010593220338983023\n",
      "57 test error: 0.010593220338983023\n",
      "58 test error: 0.010593220338983023\n",
      "59 test error: 0.010593220338983023\n",
      "60 test error: 0.010593220338983023\n",
      "61 test error: 0.010593220338983023\n",
      "62 test error: 0.010593220338983023\n",
      "63 test error: 0.010593220338983023\n",
      "64 test error: 0.010593220338983023\n",
      "65 test error: 0.010593220338983023\n",
      "66 test error: 0.010593220338983023\n",
      "67 test error: 0.010593220338983023\n",
      "68 test error: 0.010593220338983023\n",
      "69 test error: 0.010593220338983023\n",
      "70 test error: 0.010593220338983023\n",
      "71 test error: 0.010593220338983023\n",
      "72 test error: 0.010593220338983023\n",
      "73 test error: 0.012711864406779627\n",
      "74 test error: 0.010593220338983023\n",
      "75 test error: 0.010593220338983023\n",
      "76 test error: 0.010593220338983023\n",
      "77 test error: 0.010593220338983023\n",
      "78 test error: 0.010593220338983023\n",
      "79 test error: 0.010593220338983023\n",
      "80 test error: 0.010593220338983023\n",
      "81 test error: 0.010593220338983023\n",
      "82 test error: 0.010593220338983023\n",
      "83 test error: 0.010593220338983023\n",
      "84 test error: 0.010593220338983023\n",
      "85 test error: 0.010593220338983023\n",
      "86 test error: 0.010593220338983023\n",
      "87 test error: 0.010593220338983023\n",
      "88 test error: 0.010593220338983023\n",
      "89 test error: 0.010593220338983023\n"
     ]
    }
   ],
   "source": [
    "train_X_tmp = []\n",
    "train_y_tmp = []\n",
    "for i in range(90):\n",
    "    train_X_tmp += random_data_X[i]\n",
    "    train_y_tmp += random_data_y[i]\n",
    "    svm_params = linearSVC_param_search(train_X_tmp, train_y_tmp)\n",
    "    C = svm_params['C']\n",
    "    svc_clf = LinearSVC(penalty=\"l1\", C = C, loss=\"squared_hinge\", max_iter = 10000, dual=False, tol=1e-3)\n",
    "    svc_clf.fit(train_X_tmp, train_y_tmp)\n",
    "    pred_test = svc_clf.predict(booknote_X_test)\n",
    "    print(i, 'test error:', 1-accuracy_score(booknote_y_test, pred_test))"
   ]
  },
  {
   "cell_type": "markdown",
   "id": "5c519bbe-154e-4391-bc15-e13f173d09ab",
   "metadata": {},
   "source": [
    "##### ii. Train a SVM with a pool of 10 randomly selected data points from the training set using linear kernel and L1 penalty. Select the parameters of the SVM with 5-fold cross validation. Choose the 10 closest data points in the training set to the hyperplane of the SVM and add them to the pool. Do not replace the samples back into the training set. Train a new SVM using the pool. Repeat this process until all training data is used. You will have 90 SVMs that were trained using 10, 20, 30,..., 900 data points and their 90 test errors. You have implemented active learning."
   ]
  },
  {
   "cell_type": "code",
   "execution_count": 255,
   "id": "9f7669f5-1b3a-4b99-958d-941b6c979869",
   "metadata": {},
   "outputs": [
    {
     "name": "stdout",
     "output_type": "stream",
     "text": [
      "0 test error: 0.1228813559322034\n",
      "1 test error: 0.09533898305084743\n",
      "2 test error: 0.05720338983050843\n",
      "3 test error: 0.010593220338983023\n",
      "4 test error: 0.008474576271186418\n",
      "5 test error: 0.012711864406779627\n",
      "6 test error: 0.010593220338983023\n",
      "7 test error: 0.010593220338983023\n",
      "8 test error: 0.010593220338983023\n",
      "9 test error: 0.010593220338983023\n",
      "10 test error: 0.010593220338983023\n",
      "11 test error: 0.010593220338983023\n",
      "12 test error: 0.010593220338983023\n",
      "13 test error: 0.010593220338983023\n",
      "14 test error: 0.010593220338983023\n",
      "15 test error: 0.010593220338983023\n",
      "16 test error: 0.010593220338983023\n",
      "17 test error: 0.010593220338983023\n",
      "18 test error: 0.010593220338983023\n",
      "19 test error: 0.010593220338983023\n",
      "20 test error: 0.010593220338983023\n",
      "21 test error: 0.010593220338983023\n",
      "22 test error: 0.010593220338983023\n",
      "23 test error: 0.010593220338983023\n",
      "24 test error: 0.010593220338983023\n",
      "25 test error: 0.010593220338983023\n",
      "26 test error: 0.010593220338983023\n",
      "27 test error: 0.010593220338983023\n",
      "28 test error: 0.010593220338983023\n",
      "29 test error: 0.010593220338983023\n",
      "30 test error: 0.010593220338983023\n",
      "31 test error: 0.010593220338983023\n",
      "32 test error: 0.010593220338983023\n",
      "33 test error: 0.010593220338983023\n",
      "34 test error: 0.010593220338983023\n",
      "35 test error: 0.010593220338983023\n",
      "36 test error: 0.010593220338983023\n",
      "37 test error: 0.010593220338983023\n",
      "38 test error: 0.010593220338983023\n",
      "39 test error: 0.010593220338983023\n",
      "40 test error: 0.010593220338983023\n",
      "41 test error: 0.010593220338983023\n",
      "42 test error: 0.010593220338983023\n",
      "43 test error: 0.010593220338983023\n",
      "44 test error: 0.010593220338983023\n",
      "45 test error: 0.010593220338983023\n",
      "46 test error: 0.010593220338983023\n",
      "47 test error: 0.010593220338983023\n",
      "48 test error: 0.010593220338983023\n",
      "49 test error: 0.010593220338983023\n",
      "50 test error: 0.010593220338983023\n",
      "51 test error: 0.010593220338983023\n",
      "52 test error: 0.010593220338983023\n",
      "53 test error: 0.010593220338983023\n",
      "54 test error: 0.010593220338983023\n",
      "55 test error: 0.010593220338983023\n",
      "56 test error: 0.010593220338983023\n",
      "57 test error: 0.012711864406779627\n",
      "58 test error: 0.010593220338983023\n",
      "59 test error: 0.012711864406779627\n",
      "60 test error: 0.010593220338983023\n",
      "61 test error: 0.010593220338983023\n",
      "62 test error: 0.010593220338983023\n",
      "63 test error: 0.012711864406779627\n",
      "64 test error: 0.012711864406779627\n",
      "65 test error: 0.012711864406779627\n",
      "66 test error: 0.012711864406779627\n",
      "67 test error: 0.012711864406779627\n",
      "68 test error: 0.012711864406779627\n",
      "69 test error: 0.012711864406779627\n",
      "70 test error: 0.012711864406779627\n",
      "71 test error: 0.012711864406779627\n",
      "72 test error: 0.010593220338983023\n",
      "73 test error: 0.010593220338983023\n",
      "74 test error: 0.012711864406779627\n",
      "75 test error: 0.012711864406779627\n",
      "76 test error: 0.012711864406779627\n",
      "77 test error: 0.012711864406779627\n",
      "78 test error: 0.012711864406779627\n",
      "79 test error: 0.010593220338983023\n",
      "80 test error: 0.014830508474576232\n",
      "81 test error: 0.014830508474576232\n",
      "82 test error: 0.014830508474576232\n",
      "83 test error: 0.014830508474576232\n",
      "84 test error: 0.014830508474576232\n",
      "85 test error: 0.014830508474576232\n",
      "86 test error: 0.014830508474576232\n",
      "87 test error: 0.014830508474576232\n",
      "88 test error: 0.014830508474576232\n",
      "89 test error: 0.014830508474576232\n"
     ]
    }
   ],
   "source": [
    "import warnings\n",
    "warnings.filterwarnings(\"ignore\")\n",
    "train_X_tmp = []\n",
    "train_y_tmp = []\n",
    "num_list = list(np.arange(900))\n",
    "train_X_left = copy.deepcopy(booknote_X_train).values.tolist()\n",
    "train_y_left = list(copy.deepcopy(booknote_y_train))\n",
    "for i in range(90):\n",
    "    if i == 0:\n",
    "        for j in range(10):\n",
    "            new_dp = random.choice(num_list)\n",
    "            new_dp_index = num_list.index(new_dp)\n",
    "            num_list.remove(new_dp)\n",
    "            train_X_tmp.append(list(booknote_X_train.iloc[new_dp]))\n",
    "            train_y_tmp.append(booknote_y_train.iloc[new_dp])\n",
    "            train_X_left.pop(new_dp_index)\n",
    "            train_y_left.pop(new_dp_index)\n",
    "    else:\n",
    "        # choose closest data points\n",
    "        y = svc_clf.decision_function(train_X_left)\n",
    "        w_norm = np.linalg.norm(svc_clf.coef_)\n",
    "        dist = list(abs(y / w_norm))\n",
    "        for count in range(10):\n",
    "            # index\n",
    "            new_dp_index = np.argmin(dist)\n",
    "            new_dp = num_list[new_dp_index]\n",
    "            num_list.pop(new_dp_index)\n",
    "            train_X_tmp.append(list(booknote_X_train.iloc[new_dp]))\n",
    "            train_y_tmp.append(booknote_y_train.iloc[new_dp])\n",
    "            train_X_left.pop(new_dp_index)\n",
    "            dist.pop(new_dp_index)\n",
    "                \n",
    "    svm_params = linearSVC_param_search(train_X_tmp, train_y_tmp)\n",
    "    C = svm_params['C']\n",
    "    svc_clf = LinearSVC(penalty=\"l1\", C = C, loss=\"squared_hinge\", max_iter = 10000, dual=False, tol=1e-3)\n",
    "    svc_clf.fit(train_X_tmp, train_y_tmp)\n",
    "    pred_test = svc_clf.predict(booknote_X_test)\n",
    "    print(i, 'test error:', 1-accuracy_score(booknote_y_test, pred_test))"
   ]
  },
  {
   "cell_type": "markdown",
   "id": "277216cc-2527-4271-a67d-39d18dcec4bd",
   "metadata": {},
   "source": [
    "* Monte Carlo Simulation  \n",
    "Average the 50 test errors for each of the incrementally trained 90 SVMs in 2(b)i and 2(b)ii. By doing so, you are performing a Monte Carlo simulation. Plot average test error versus number of training instances for both active and passive learners on the same figure and report your conclusions. Here, you are actually obtaining a learning curve by Monte-Carlo simulation."
   ]
  },
  {
   "cell_type": "code",
   "execution_count": 293,
   "id": "e3c4ead9-b5a0-4b91-9910-67b403e82c37",
   "metadata": {},
   "outputs": [
    {
     "name": "stderr",
     "output_type": "stream",
     "text": [
      "100%|██████████| 50/50 [18:23<00:00, 22.06s/it]\n"
     ]
    }
   ],
   "source": [
    "passive_error_list = []\n",
    "active_error_list = []\n",
    "from tqdm import tqdm\n",
    "for m in tqdm(range(50)):\n",
    "    booknote_X_train, booknote_X_test, booknote_y_train, booknote_y_test = train_test_split(booknote_X, booknote_y, test_size=0.344, random_state=m)\n",
    "    num_list = list(np.arange(900))\n",
    "    random_data_X = []\n",
    "    random_data_y = []\n",
    "    for i in range(90):\n",
    "        new_data_list = []\n",
    "        new_data_y = []\n",
    "        for j in range(10):\n",
    "            new_dp = random.choice(num_list)\n",
    "            num_list.remove(new_dp)\n",
    "            new_data_list.append(list(booknote_X_train.iloc[new_dp]))\n",
    "            new_data_y.append(booknote_y_train.iloc[new_dp])\n",
    "        random_data_X.append(new_data_list)\n",
    "        random_data_y.append(new_data_y)\n",
    "    train_X_tmp = []\n",
    "    train_y_tmp = []\n",
    "    passive_errors = []\n",
    "    for i in range(90):\n",
    "        train_X_tmp += random_data_X[i]\n",
    "        train_y_tmp += random_data_y[i]\n",
    "        svm_params = linearSVC_param_search(train_X_tmp, train_y_tmp)\n",
    "        C = svm_params['C']\n",
    "        svc_clf = LinearSVC(penalty=\"l1\", C = C, loss=\"squared_hinge\", max_iter = 10000, dual=False, tol=1e-3)\n",
    "        svc_clf.fit(train_X_tmp, train_y_tmp)\n",
    "        pred_test = svc_clf.predict(booknote_X_test)\n",
    "        passive_errors.append(1-accuracy_score(booknote_y_test, pred_test))\n",
    "    passive_error_list.append(passive_errors)\n",
    "    train_X_tmp = []\n",
    "    train_y_tmp = []\n",
    "    num_list = list(np.arange(900))\n",
    "    train_X_left = copy.deepcopy(booknote_X_train).values.tolist()\n",
    "    train_y_left = list(copy.deepcopy(booknote_y_train))\n",
    "    active_errors = []\n",
    "    for i in range(90):\n",
    "        if i == 0:\n",
    "            for j in range(10):\n",
    "                new_dp = random.choice(num_list)\n",
    "                new_dp_index = num_list.index(new_dp)\n",
    "                num_list.remove(new_dp)\n",
    "                train_X_tmp.append(list(booknote_X_train.iloc[new_dp]))\n",
    "                train_y_tmp.append(booknote_y_train.iloc[new_dp])\n",
    "                train_X_left.pop(new_dp_index)\n",
    "                train_y_left.pop(new_dp_index)\n",
    "        else:\n",
    "            # choose closest data points\n",
    "            y = svc_clf.decision_function(train_X_left)\n",
    "            w_norm = np.linalg.norm(svc_clf.coef_)\n",
    "            dist = list(abs(y / w_norm))\n",
    "            for count in range(10):\n",
    "                # index\n",
    "                new_dp_index = np.argmin(dist)\n",
    "                new_dp = num_list[new_dp_index]\n",
    "                num_list.pop(new_dp_index)\n",
    "                train_X_tmp.append(list(booknote_X_train.iloc[new_dp]))\n",
    "                train_y_tmp.append(booknote_y_train.iloc[new_dp])\n",
    "                train_X_left.pop(new_dp_index)\n",
    "                dist.pop(new_dp_index)\n",
    "                \n",
    "        svm_params = linearSVC_param_search(train_X_tmp, train_y_tmp)\n",
    "        C = svm_params['C']\n",
    "        svc_clf = LinearSVC(penalty=\"l1\", C = C, loss=\"squared_hinge\", max_iter = 10000, dual=False, tol=1e-3)\n",
    "        svc_clf.fit(train_X_tmp, train_y_tmp)\n",
    "        pred_test = svc_clf.predict(booknote_X_test)\n",
    "        active_errors.append(1-accuracy_score(booknote_y_test, pred_test))\n",
    "    active_error_list.append(active_errors)"
   ]
  },
  {
   "cell_type": "code",
   "execution_count": 303,
   "id": "141796ab-6e22-40f1-ae07-b13818b53ab4",
   "metadata": {},
   "outputs": [],
   "source": [
    "y1 = np.mean(passive_error_list,axis = 0)\n",
    "y2 = np.mean(active_error_list,axis = 0)\n",
    "x = np.arange(10,910,10)"
   ]
  },
  {
   "cell_type": "code",
   "execution_count": 309,
   "id": "dfbe9de1-434e-40a6-8c61-a9bcee7768e6",
   "metadata": {},
   "outputs": [
    {
     "data": {
      "text/plain": [
       "<matplotlib.legend.Legend at 0x7fca604bd190>"
      ]
     },
     "execution_count": 309,
     "metadata": {},
     "output_type": "execute_result"
    },
    {
     "data": {
      "image/png": "[encoded data removed]",
      "text/plain": [
       "<Figure size 720x360 with 1 Axes>"
      ]
     },
     "metadata": {
      "needs_background": "light"
     },
     "output_type": "display_data"
    }
   ],
   "source": [
    "plt.figure(figsize=(10,5))\n",
    "plt.plot(x,y1,'r-',label=\"passive learner\")\n",
    "plt.plot(x,y2,'b-',label=\"active learner\")\n",
    "plt.title(\"Average Test Error versus Number of Training Instances\")\n",
    "plt.xlabel(\"Number of Training Instances\")\n",
    "plt.ylabel(\"Average Test Error\")\n",
    "plt.legend()"
   ]
  },
  {
   "cell_type": "markdown",
   "id": "7126c83e-b6d0-40d3-8777-add5d6d64f45",
   "metadata": {},
   "source": [
    "The conclusion is that active learner can achieve low error rate with fewer training instances. Based on active learner, a model can achieve good performance even though it is trained on a small labeled dataset."
   ]
  }
 ],
 "metadata": {
  "kernelspec": {
   "display_name": "Python 3",
   "language": "python",
   "name": "python3"
  },
  "language_info": {
   "codemirror_mode": {
    "name": "ipython",
    "version": 3
   },
   "file_extension": ".py",
   "mimetype": "text/x-python",
   "name": "python",
   "nbconvert_exporter": "python",
   "pygments_lexer": "ipython3",
   "version": "3.8.8"
  }
 },
 "nbformat": 4,
 "nbformat_minor": 5
}
